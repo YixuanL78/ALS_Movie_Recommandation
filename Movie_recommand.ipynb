{
  "nbformat": 4,
  "nbformat_minor": 0,
  "metadata": {
    "colab": {
      "provenance": []
    },
    "kernelspec": {
      "name": "python3",
      "display_name": "Python 3"
    },
    "language_info": {
      "name": "python"
    }
  },
  "cells": [
    {
      "cell_type": "markdown",
      "source": [
        "# Moive Recommendation"
      ],
      "metadata": {
        "id": "vj4qD4-6Nt7N"
      }
    },
    {
      "cell_type": "code",
      "execution_count": 1,
      "metadata": {
        "id": "9Em3NNVeG4eP"
      },
      "outputs": [],
      "source": [
        "!apt-get install openjdk-8-jdk-headless -qq > /dev/null\n",
        "!wget -q https://dlcdn.apache.org/spark/spark-3.5.5/spark-3.5.5-bin-hadoop3.tgz\n",
        "!tar xf spark-3.5.5-bin-hadoop3.tgz\n",
        "!pip install -q findspark"
      ]
    },
    {
      "cell_type": "code",
      "source": [
        "import os\n",
        "os.environ[\"JAVA_HOME\"] = \"/usr/lib/jvm/java-8-openjdk-amd64\"\n",
        "os.environ[\"SPARK_HOME\"] = \"spark-3.5.5/spark-3.5.5-bin-hadoop3\""
      ],
      "metadata": {
        "id": "KcpXkrZjHpQX"
      },
      "execution_count": 2,
      "outputs": []
    },
    {
      "cell_type": "code",
      "source": [
        "import findspark\n",
        "findspark.init(\"spark-3.5.5-bin-hadoop3\")\n",
        "from pyspark.sql import SparkSession\n",
        "spark = SparkSession.builder.master(\"local[*]\").getOrCreate()"
      ],
      "metadata": {
        "id": "Th1KF78YH1C9"
      },
      "execution_count": 3,
      "outputs": []
    },
    {
      "cell_type": "code",
      "source": [
        "import numpy as np\n",
        "import pandas as pd\n",
        "import math"
      ],
      "metadata": {
        "id": "__efpwBTLoho"
      },
      "execution_count": 50,
      "outputs": []
    },
    {
      "cell_type": "markdown",
      "source": [
        "## 1. Data Processing and Data Exploration"
      ],
      "metadata": {
        "id": "u6VvBCNONtdN"
      }
    },
    {
      "cell_type": "markdown",
      "source": [
        "data source: https://grouplens.org/datasets/movielens/latest/"
      ],
      "metadata": {
        "id": "Zwiego7sN3VU"
      }
    },
    {
      "cell_type": "code",
      "source": [
        "from google.colab import drive\n",
        "drive.mount('/content/drive')"
      ],
      "metadata": {
        "colab": {
          "base_uri": "https://localhost:8080/"
        },
        "id": "ykFDPkq3Lzso",
        "outputId": "604b5614-cb24-43f8-8cdf-50babbbee582"
      },
      "execution_count": 49,
      "outputs": [
        {
          "output_type": "stream",
          "name": "stdout",
          "text": [
            "Drive already mounted at /content/drive; to attempt to forcibly remount, call drive.mount(\"/content/drive\", force_remount=True).\n"
          ]
        }
      ]
    },
    {
      "cell_type": "code",
      "source": [
        "movies_df = spark.read.load(\"drive/My Drive/Movie_data/movies.csv\", format='csv', header = True)\n",
        "ratings_df = spark.read.load(\"drive/My Drive/Movie_data/ratings.csv\", format='csv', header = True)\n",
        "links_df = spark.read.load(\"drive/My Drive/Movie_data/links.csv\", format='csv', header = True)\n",
        "tags_df = spark.read.load(\"drive/My Drive/Movie_data/tags.csv\", format='csv', header = True)"
      ],
      "metadata": {
        "id": "QgcKsB0aL7R5"
      },
      "execution_count": 6,
      "outputs": []
    },
    {
      "cell_type": "code",
      "source": [
        "dataframes = {\n",
        "    \"movies_df\": movies_df,\n",
        "    \"ratings_df\": ratings_df,\n",
        "    \"links_df\": links_df,\n",
        "    \"tags_df\": tags_df\n",
        "}"
      ],
      "metadata": {
        "id": "AT5IXZQwQia6"
      },
      "execution_count": 7,
      "outputs": []
    },
    {
      "cell_type": "code",
      "source": [
        "for df_name, df in dataframes.items():\n",
        "  print(f\"Data frame: {df_name}\")\n",
        "  df.printSchema()\n",
        "  df.show(5, truncate=False)"
      ],
      "metadata": {
        "colab": {
          "base_uri": "https://localhost:8080/"
        },
        "id": "AJtLAPoQMIrW",
        "outputId": "519ba2a3-1c5f-4782-99b2-68caf4c8764d"
      },
      "execution_count": 8,
      "outputs": [
        {
          "output_type": "stream",
          "name": "stdout",
          "text": [
            "Data frame: movies_df\n",
            "root\n",
            " |-- movieId: string (nullable = true)\n",
            " |-- title: string (nullable = true)\n",
            " |-- genres: string (nullable = true)\n",
            "\n",
            "+-------+----------------------------------+-------------------------------------------+\n",
            "|movieId|title                             |genres                                     |\n",
            "+-------+----------------------------------+-------------------------------------------+\n",
            "|1      |Toy Story (1995)                  |Adventure|Animation|Children|Comedy|Fantasy|\n",
            "|2      |Jumanji (1995)                    |Adventure|Children|Fantasy                 |\n",
            "|3      |Grumpier Old Men (1995)           |Comedy|Romance                             |\n",
            "|4      |Waiting to Exhale (1995)          |Comedy|Drama|Romance                       |\n",
            "|5      |Father of the Bride Part II (1995)|Comedy                                     |\n",
            "+-------+----------------------------------+-------------------------------------------+\n",
            "only showing top 5 rows\n",
            "\n",
            "Data frame: ratings_df\n",
            "root\n",
            " |-- userId: string (nullable = true)\n",
            " |-- movieId: string (nullable = true)\n",
            " |-- rating: string (nullable = true)\n",
            " |-- timestamp: string (nullable = true)\n",
            "\n",
            "+------+-------+------+---------+\n",
            "|userId|movieId|rating|timestamp|\n",
            "+------+-------+------+---------+\n",
            "|1     |1      |4.0   |964982703|\n",
            "|1     |3      |4.0   |964981247|\n",
            "|1     |6      |4.0   |964982224|\n",
            "|1     |47     |5.0   |964983815|\n",
            "|1     |50     |5.0   |964982931|\n",
            "+------+-------+------+---------+\n",
            "only showing top 5 rows\n",
            "\n",
            "Data frame: links_df\n",
            "root\n",
            " |-- movieId: string (nullable = true)\n",
            " |-- imdbId: string (nullable = true)\n",
            " |-- tmdbId: string (nullable = true)\n",
            "\n",
            "+-------+-------+------+\n",
            "|movieId|imdbId |tmdbId|\n",
            "+-------+-------+------+\n",
            "|1      |0114709|862   |\n",
            "|2      |0113497|8844  |\n",
            "|3      |0113228|15602 |\n",
            "|4      |0114885|31357 |\n",
            "|5      |0113041|11862 |\n",
            "+-------+-------+------+\n",
            "only showing top 5 rows\n",
            "\n",
            "Data frame: tags_df\n",
            "root\n",
            " |-- userId: string (nullable = true)\n",
            " |-- movieId: string (nullable = true)\n",
            " |-- tag: string (nullable = true)\n",
            " |-- timestamp: string (nullable = true)\n",
            "\n",
            "+------+-------+---------------+----------+\n",
            "|userId|movieId|tag            |timestamp |\n",
            "+------+-------+---------------+----------+\n",
            "|2     |60756  |funny          |1445714994|\n",
            "|2     |60756  |Highly quotable|1445714996|\n",
            "|2     |60756  |will ferrell   |1445714992|\n",
            "|2     |89774  |Boxing story   |1445715207|\n",
            "|2     |89774  |MMA            |1445715200|\n",
            "+------+-------+---------------+----------+\n",
            "only showing top 5 rows\n",
            "\n"
          ]
        }
      ]
    },
    {
      "cell_type": "code",
      "source": [
        "from pyspark.sql.functions import col, sum\n",
        "\n",
        "for df_name, df in dataframes.items():\n",
        "  print(f\"Data frame {df_name}\")\n",
        "  df.select([sum(col(c).isNull().cast(\"int\")).alias(c) for c in df.columns]).show()"
      ],
      "metadata": {
        "colab": {
          "base_uri": "https://localhost:8080/"
        },
        "id": "0s_Tu0ijNFpF",
        "outputId": "97217f87-80d5-4898-b49d-aa046a108eea"
      },
      "execution_count": 9,
      "outputs": [
        {
          "output_type": "stream",
          "name": "stdout",
          "text": [
            "Data frame movies_df\n",
            "+-------+-----+------+\n",
            "|movieId|title|genres|\n",
            "+-------+-----+------+\n",
            "|      0|    0|     0|\n",
            "+-------+-----+------+\n",
            "\n",
            "Data frame ratings_df\n",
            "+------+-------+------+---------+\n",
            "|userId|movieId|rating|timestamp|\n",
            "+------+-------+------+---------+\n",
            "|     0|      0|     0|        0|\n",
            "+------+-------+------+---------+\n",
            "\n",
            "Data frame links_df\n",
            "+-------+------+------+\n",
            "|movieId|imdbId|tmdbId|\n",
            "+-------+------+------+\n",
            "|      0|     0|     8|\n",
            "+-------+------+------+\n",
            "\n",
            "Data frame tags_df\n",
            "+------+-------+---+---------+\n",
            "|userId|movieId|tag|timestamp|\n",
            "+------+-------+---+---------+\n",
            "|     0|      0|  0|        0|\n",
            "+------+-------+---+---------+\n",
            "\n"
          ]
        }
      ]
    },
    {
      "cell_type": "code",
      "source": [
        "links_df = links_df.na.drop()"
      ],
      "metadata": {
        "id": "zVjl2rznRd9Y"
      },
      "execution_count": 10,
      "outputs": []
    },
    {
      "cell_type": "code",
      "source": [
        "from pyspark.sql.functions import from_unixtime\n",
        "\n",
        "# Make timestamp more readable\n",
        "ratings_df = ratings_df.withColumn(\"timestamp\", from_unixtime(col(\"timestamp\")))\n",
        "tags_df = tags_df.withColumn(\"timestamp\", from_unixtime(col(\"timestamp\")))"
      ],
      "metadata": {
        "id": "mawpAfWnSBdI"
      },
      "execution_count": 11,
      "outputs": []
    },
    {
      "cell_type": "code",
      "source": [
        "ratings_df.show(5, truncate=False)\n",
        "tags_df.show(5, truncate=False)"
      ],
      "metadata": {
        "colab": {
          "base_uri": "https://localhost:8080/"
        },
        "id": "N-cgKCYjSI0K",
        "outputId": "9052a147-8c0e-46ed-e732-c9b74c7474f8"
      },
      "execution_count": 12,
      "outputs": [
        {
          "output_type": "stream",
          "name": "stdout",
          "text": [
            "+------+-------+------+-------------------+\n",
            "|userId|movieId|rating|timestamp          |\n",
            "+------+-------+------+-------------------+\n",
            "|1     |1      |4.0   |2000-07-30 18:45:03|\n",
            "|1     |3      |4.0   |2000-07-30 18:20:47|\n",
            "|1     |6      |4.0   |2000-07-30 18:37:04|\n",
            "|1     |47     |5.0   |2000-07-30 19:03:35|\n",
            "|1     |50     |5.0   |2000-07-30 18:48:51|\n",
            "+------+-------+------+-------------------+\n",
            "only showing top 5 rows\n",
            "\n",
            "+------+-------+---------------+-------------------+\n",
            "|userId|movieId|tag            |timestamp          |\n",
            "+------+-------+---------------+-------------------+\n",
            "|2     |60756  |funny          |2015-10-24 19:29:54|\n",
            "|2     |60756  |Highly quotable|2015-10-24 19:29:56|\n",
            "|2     |60756  |will ferrell   |2015-10-24 19:29:52|\n",
            "|2     |89774  |Boxing story   |2015-10-24 19:33:27|\n",
            "|2     |89774  |MMA            |2015-10-24 19:33:20|\n",
            "+------+-------+---------------+-------------------+\n",
            "only showing top 5 rows\n",
            "\n"
          ]
        }
      ]
    },
    {
      "cell_type": "markdown",
      "source": [
        "### Sql analysis"
      ],
      "metadata": {
        "id": "pi_bLl_sVdM8"
      }
    },
    {
      "cell_type": "code",
      "source": [
        "movies_df.registerTempTable(\"movies\")\n",
        "ratings_df.registerTempTable(\"ratings\")\n",
        "links_df.registerTempTable(\"links\")\n",
        "tags_df.registerTempTable(\"tags\")"
      ],
      "metadata": {
        "colab": {
          "base_uri": "https://localhost:8080/"
        },
        "id": "JmWkaj8eVjO1",
        "outputId": "99e599fe-0255-4763-9a96-65a8c2334b8a"
      },
      "execution_count": 13,
      "outputs": [
        {
          "output_type": "stream",
          "name": "stderr",
          "text": [
            "/content/spark-3.5.5-bin-hadoop3/python/pyspark/sql/dataframe.py:329: FutureWarning: Deprecated in 2.0, use createOrReplaceTempView instead.\n",
            "  warnings.warn(\"Deprecated in 2.0, use createOrReplaceTempView instead.\", FutureWarning)\n"
          ]
        }
      ]
    },
    {
      "cell_type": "code",
      "source": [
        "# User Number and Movie Number\n",
        "user_numb = spark.sql(\"SELECT COUNT(DISTINCT userId) AS user_numb FROM ratings\")\n",
        "movie_numb = spark.sql(\"SELECT COUNT(DISTINCT movieId) AS movie_numb FROM movies\")\n",
        "user_numb.show()\n",
        "movie_numb.show()"
      ],
      "metadata": {
        "colab": {
          "base_uri": "https://localhost:8080/"
        },
        "id": "Mm97I-gdT7ku",
        "outputId": "bd90622e-9e96-4880-9cd7-9deec3585d3a"
      },
      "execution_count": 14,
      "outputs": [
        {
          "output_type": "stream",
          "name": "stdout",
          "text": [
            "+---------+\n",
            "|user_numb|\n",
            "+---------+\n",
            "|      610|\n",
            "+---------+\n",
            "\n",
            "+----------+\n",
            "|movie_numb|\n",
            "+----------+\n",
            "|      9742|\n",
            "+----------+\n",
            "\n"
          ]
        }
      ]
    },
    {
      "cell_type": "code",
      "source": [
        "# Show movie genres\n",
        "movie_genres = spark.sql(\"SELECT DISTINCT genres FROM movies\")\n",
        "print(f\"movie genres count: {movie_genres.count()}\")\n",
        "movie_genres.show(10, truncate=False)"
      ],
      "metadata": {
        "colab": {
          "base_uri": "https://localhost:8080/"
        },
        "id": "xHMMCj5PWKbw",
        "outputId": "5d877ed1-5d6b-4617-8b50-280a3969a488"
      },
      "execution_count": 93,
      "outputs": [
        {
          "output_type": "stream",
          "name": "stdout",
          "text": [
            "movie genres count: 951\n",
            "+------------------------------------------+\n",
            "|genres                                    |\n",
            "+------------------------------------------+\n",
            "|Comedy|Horror|Thriller                    |\n",
            "|Adventure|Sci-Fi|Thriller                 |\n",
            "|Action|Adventure|Drama|Fantasy            |\n",
            "|Action|Drama|Horror                       |\n",
            "|Action|Animation|Comedy|Sci-Fi            |\n",
            "|Animation|Children|Drama|Musical|Romance  |\n",
            "|Action|Adventure|Drama                    |\n",
            "|Adventure|Sci-Fi                          |\n",
            "|Documentary|Musical|IMAX                  |\n",
            "|Adventure|Children|Fantasy|Sci-Fi|Thriller|\n",
            "+------------------------------------------+\n",
            "only showing top 10 rows\n",
            "\n"
          ]
        }
      ]
    },
    {
      "cell_type": "code",
      "source": [
        "movie_genres_count = spark.sql(\"SELECT genres, COUNT(*) AS count FROM movies GROUP BY 1 Order by 2 DESC\")\n",
        "movie_genres_count.show(10, truncate=False)"
      ],
      "metadata": {
        "colab": {
          "base_uri": "https://localhost:8080/"
        },
        "id": "VdZARKWSX398",
        "outputId": "6c0f2051-6a10-41e4-da68-d0031cb9c3be"
      },
      "execution_count": 94,
      "outputs": [
        {
          "output_type": "stream",
          "name": "stdout",
          "text": [
            "+--------------------+-----+\n",
            "|genres              |count|\n",
            "+--------------------+-----+\n",
            "|Drama               |1053 |\n",
            "|Comedy              |946  |\n",
            "|Comedy|Drama        |435  |\n",
            "|Comedy|Romance      |363  |\n",
            "|Drama|Romance       |349  |\n",
            "|Documentary         |339  |\n",
            "|Comedy|Drama|Romance|276  |\n",
            "|Drama|Thriller      |168  |\n",
            "|Horror              |167  |\n",
            "|Horror|Thriller     |135  |\n",
            "+--------------------+-----+\n",
            "only showing top 10 rows\n",
            "\n"
          ]
        }
      ]
    },
    {
      "cell_type": "code",
      "source": [
        "# count rated movies\n",
        "rated_movies = spark.sql(\"SELECT movieID, Title FROM movies WHERE movieID IN (SELECT movieId from ratings)\")\n",
        "print(f\"movie genres count: {rated_movies.count()}\")\n",
        "rated_movies.show(10, truncate=False)"
      ],
      "metadata": {
        "colab": {
          "base_uri": "https://localhost:8080/"
        },
        "id": "rpViU0bbHG7P",
        "outputId": "0760148b-d586-403a-9d93-198203a69ba8"
      },
      "execution_count": 170,
      "outputs": [
        {
          "output_type": "stream",
          "name": "stdout",
          "text": [
            "movie genres count: 9724\n",
            "+-------+----------------------------------+\n",
            "|movieID|Title                             |\n",
            "+-------+----------------------------------+\n",
            "|1      |Toy Story (1995)                  |\n",
            "|2      |Jumanji (1995)                    |\n",
            "|3      |Grumpier Old Men (1995)           |\n",
            "|4      |Waiting to Exhale (1995)          |\n",
            "|5      |Father of the Bride Part II (1995)|\n",
            "|6      |Heat (1995)                       |\n",
            "|7      |Sabrina (1995)                    |\n",
            "|8      |Tom and Huck (1995)               |\n",
            "|9      |Sudden Death (1995)               |\n",
            "|10     |GoldenEye (1995)                  |\n",
            "+-------+----------------------------------+\n",
            "only showing top 10 rows\n",
            "\n"
          ]
        }
      ]
    },
    {
      "cell_type": "code",
      "source": [
        "# Count unique movie genres\n",
        "unique_genres = spark.sql(\"SELECT genres, COUNT(*) as count FROM (SELECT explode(split(genres, '[|]')) as genres, movieID FROM movies) Group By 1 Order by 2 DESC\")\n",
        "print(f\"movie genres count: {unique_genres.count()}\")\n",
        "unique_genres.show(10, truncate=False)"
      ],
      "metadata": {
        "colab": {
          "base_uri": "https://localhost:8080/"
        },
        "id": "CvbpTGdkIS49",
        "outputId": "28cf2861-31f9-4726-bbd1-93615780364e"
      },
      "execution_count": 96,
      "outputs": [
        {
          "output_type": "stream",
          "name": "stdout",
          "text": [
            "movie genres count: 20\n",
            "+---------+-----+\n",
            "|genres   |count|\n",
            "+---------+-----+\n",
            "|Drama    |4361 |\n",
            "|Comedy   |3756 |\n",
            "|Thriller |1894 |\n",
            "|Action   |1828 |\n",
            "|Romance  |1596 |\n",
            "|Adventure|1263 |\n",
            "|Crime    |1199 |\n",
            "|Sci-Fi   |980  |\n",
            "|Horror   |978  |\n",
            "|Fantasy  |779  |\n",
            "+---------+-----+\n",
            "only showing top 10 rows\n",
            "\n"
          ]
        }
      ]
    },
    {
      "cell_type": "markdown",
      "source": [
        "## 2. Spark ALS model training and tuning"
      ],
      "metadata": {
        "id": "sMo6poJLvah0"
      }
    },
    {
      "cell_type": "markdown",
      "source": [
        "### modify data type for training"
      ],
      "metadata": {
        "id": "4x_YaGAZ1ddz"
      }
    },
    {
      "cell_type": "code",
      "source": [
        "movie_ratings = ratings_df.drop(\"timestamp\")"
      ],
      "metadata": {
        "id": "V9o7DOVDwAda"
      },
      "execution_count": 19,
      "outputs": []
    },
    {
      "cell_type": "code",
      "source": [
        "from pyspark.sql.types import IntegerType, FloatType\n",
        "movie_ratings = movie_ratings.withColumn(\"userId\", col(\"userId\").cast(IntegerType()))\n",
        "movie_ratings = movie_ratings.withColumn(\"movieId\", col(\"movieId\").cast(IntegerType()))\n",
        "movie_ratings = movie_ratings.withColumn(\"rating\", col(\"rating\").cast(FloatType()))"
      ],
      "metadata": {
        "id": "r2Ofgc2f0y6c"
      },
      "execution_count": 20,
      "outputs": []
    },
    {
      "cell_type": "markdown",
      "source": [
        "### prepare model and tuning"
      ],
      "metadata": {
        "id": "iXVN7zNzvoeP"
      }
    },
    {
      "cell_type": "code",
      "source": [
        "from pyspark.ml.evaluation import RegressionEvaluator\n",
        "from pyspark.ml.recommendation import ALS\n",
        "from pyspark.ml.tuning import CrossValidator,ParamGridBuilder"
      ],
      "metadata": {
        "id": "N-glqeOivoPV"
      },
      "execution_count": 21,
      "outputs": []
    },
    {
      "cell_type": "code",
      "source": [
        "(training,test) = movie_ratings.randomSplit([0.8,0.2])"
      ],
      "metadata": {
        "id": "-gqWCBsxv4tN"
      },
      "execution_count": 22,
      "outputs": []
    },
    {
      "cell_type": "code",
      "source": [
        "als = ALS(maxIter=5, rank=10, regParam=0.01, userCol=\"userId\", itemCol=\"movieId\", ratingCol=\"rating\",\n",
        "          coldStartStrategy=\"drop\")"
      ],
      "metadata": {
        "id": "C69D6Q4UxvFa"
      },
      "execution_count": 23,
      "outputs": []
    },
    {
      "cell_type": "code",
      "source": [
        "paramGrid = (ParamGridBuilder()\n",
        "          .addGrid(als.regParam, [0.05, 0.1, 0.3, 0.5, 0.8])\n",
        "          .addGrid(als.rank, [5, 8, 11, 15])\n",
        "          .addGrid(als.maxIter, [3, 5, 8, 10])\n",
        "          .build())"
      ],
      "metadata": {
        "id": "_p7wZbQIv4nv"
      },
      "execution_count": 24,
      "outputs": []
    },
    {
      "cell_type": "code",
      "source": [
        "evaluator = RegressionEvaluator(metricName=\"rmse\", labelCol=\"rating\",\n",
        "                    predictionCol=\"prediction\")"
      ],
      "metadata": {
        "id": "tCRgUwZKv4jZ"
      },
      "execution_count": 25,
      "outputs": []
    },
    {
      "cell_type": "code",
      "source": [
        "cv = CrossValidator(estimator=als, estimatorParamMaps=paramGrid, evaluator=evaluator, numFolds=5)"
      ],
      "metadata": {
        "id": "WNx3Q-yyv4ZJ"
      },
      "execution_count": 26,
      "outputs": []
    },
    {
      "cell_type": "code",
      "source": [
        "cvModel = cv.fit(training)"
      ],
      "metadata": {
        "id": "f0jzBM9M0D68"
      },
      "execution_count": 27,
      "outputs": []
    },
    {
      "cell_type": "code",
      "source": [
        "bestModel=cvModel.bestModel"
      ],
      "metadata": {
        "id": "pK8uGnpR0E0t"
      },
      "execution_count": 28,
      "outputs": []
    },
    {
      "cell_type": "markdown",
      "source": [
        "### Model Training"
      ],
      "metadata": {
        "id": "sylKEObmubRM"
      }
    },
    {
      "cell_type": "code",
      "source": [
        "test_predictions = bestModel.transform(test)\n",
        "rmse_1 = evaluator.evaluate(test_predictions)"
      ],
      "metadata": {
        "id": "j7mNxxhmJZ0Y"
      },
      "execution_count": 89,
      "outputs": []
    },
    {
      "cell_type": "code",
      "source": [
        "#test set predict result\n",
        "print (\"Best Model Performance:\")\n",
        "print (f\"RMSE: {rmse_1}\")\n",
        "print (f\" Rank: {bestModel._java_obj.parent().getRank()}\"),\n",
        "print (f\" MaxIter: {bestModel._java_obj.parent().getMaxIter()}\"),\n",
        "print (f\" RegParam: {bestModel._java_obj.parent().getRegParam()}\")"
      ],
      "metadata": {
        "colab": {
          "base_uri": "https://localhost:8080/"
        },
        "id": "NYc_SjyD19CD",
        "outputId": "67fc3eea-27a2-4232-aaa5-93d553fc536d"
      },
      "execution_count": 90,
      "outputs": [
        {
          "output_type": "stream",
          "name": "stdout",
          "text": [
            "Best Model Performance:\n",
            "RMSE: 0.8915467028329968\n",
            " Rank: 5\n",
            " MaxIter: 10\n",
            " RegParam: 0.1\n"
          ]
        }
      ]
    },
    {
      "cell_type": "code",
      "source": [
        "test_predictions.show(10)"
      ],
      "metadata": {
        "colab": {
          "base_uri": "https://localhost:8080/"
        },
        "id": "HXDNjodr2hRZ",
        "outputId": "8a044562-ff0c-4038-ac6e-1e8f29ace18f"
      },
      "execution_count": 91,
      "outputs": [
        {
          "output_type": "stream",
          "name": "stdout",
          "text": [
            "+------+-------+------+----------+\n",
            "|userId|movieId|rating|prediction|\n",
            "+------+-------+------+----------+\n",
            "|   463|   1088|   3.5| 3.1597826|\n",
            "|   133|    471|   4.0|   2.82497|\n",
            "|   322|   1580|   3.5| 3.1128342|\n",
            "|   597|   1580|   3.0| 3.7918675|\n",
            "|   155|   1580|   4.0| 3.8850126|\n",
            "|   115|   1580|   4.0| 3.7900617|\n",
            "|   115|   1645|   4.0| 3.4983606|\n",
            "|   115|   3175|   4.0|  3.814225|\n",
            "|   183|   1580|   4.0| 3.7332616|\n",
            "|    27|   2142|   3.0| 2.8103154|\n",
            "+------+-------+------+----------+\n",
            "only showing top 10 rows\n",
            "\n"
          ]
        }
      ]
    },
    {
      "cell_type": "code",
      "source": [
        "full_predictions = bestModel.transform(movie_ratings)\n",
        "full_predictions.show(10)"
      ],
      "metadata": {
        "colab": {
          "base_uri": "https://localhost:8080/"
        },
        "id": "35QX7CfPZyKq",
        "outputId": "5d93fa7e-49cc-4e7f-b073-181df85c3c3d"
      },
      "execution_count": 92,
      "outputs": [
        {
          "output_type": "stream",
          "name": "stdout",
          "text": [
            "+------+-------+------+----------+\n",
            "|userId|movieId|rating|prediction|\n",
            "+------+-------+------+----------+\n",
            "|   463|   1088|   3.5| 3.1597826|\n",
            "|   137|   1580|   3.5|  3.188569|\n",
            "|   580|   1580|   4.0| 3.4207795|\n",
            "|   580|   3175|   2.5| 3.4886749|\n",
            "|   580|  44022|   3.5|  3.494078|\n",
            "|   133|    471|   4.0|   2.82497|\n",
            "|   322|   1580|   3.5| 3.1128342|\n",
            "|   362|   1591|   4.0| 3.1952415|\n",
            "|   362|   1645|   5.0|  3.961551|\n",
            "|   593|   1580|   1.5| 2.8105989|\n",
            "+------+-------+------+----------+\n",
            "only showing top 10 rows\n",
            "\n"
          ]
        }
      ]
    },
    {
      "cell_type": "code",
      "source": [
        "#whole dataset predict result\n",
        "rmse_2 = evaluator.evaluate(full_predictions)\n",
        "print (f\"Full data prediction RMSE: {rmse_2}\")"
      ],
      "metadata": {
        "colab": {
          "base_uri": "https://localhost:8080/"
        },
        "id": "-75tu24uZ2uj",
        "outputId": "5885881e-e2b4-400e-be6f-97759e838b65"
      },
      "execution_count": 34,
      "outputs": [
        {
          "output_type": "stream",
          "name": "stdout",
          "text": [
            "Full data prediction RMSE: 0.6925898347691948\n"
          ]
        }
      ]
    },
    {
      "cell_type": "markdown",
      "source": [
        "## 3. Use model to recommand movies"
      ],
      "metadata": {
        "id": "DI6ZmhXRhWCZ"
      }
    },
    {
      "cell_type": "code",
      "source": [
        "import pyspark.pandas as ps"
      ],
      "metadata": {
        "colab": {
          "base_uri": "https://localhost:8080/"
        },
        "id": "HuG-O2QpmQzn",
        "outputId": "ae31bdcd-ff81-4ffd-f3dd-6c64db262f13"
      },
      "execution_count": 51,
      "outputs": [
        {
          "output_type": "stream",
          "name": "stderr",
          "text": [
            "/content/spark-3.5.5-bin-hadoop3/python/pyspark/pandas/__init__.py:50: UserWarning: 'PYARROW_IGNORE_TIMEZONE' environment variable was not set. It is required to set this environment variable to '1' in both driver and executor sides if you use pyarrow>=2.0.0. pandas-on-Spark will set it for you but it does not work if there is a Spark context already launched.\n",
            "  warnings.warn(\n"
          ]
        }
      ]
    },
    {
      "cell_type": "code",
      "source": [
        "recommendations = bestModel.recommendForAllUsers(5)"
      ],
      "metadata": {
        "id": "fD1b1nyPheZP"
      },
      "execution_count": 37,
      "outputs": []
    },
    {
      "cell_type": "code",
      "source": [
        "recommendations.show(5, truncate=False)"
      ],
      "metadata": {
        "colab": {
          "base_uri": "https://localhost:8080/"
        },
        "id": "cXkwl337jOG_",
        "outputId": "0da8ee2f-bb31-433c-af93-0c1177abe87e"
      },
      "execution_count": 86,
      "outputs": [
        {
          "output_type": "stream",
          "name": "stdout",
          "text": [
            "+------+--------------------------------------------------------------------------------------------------+\n",
            "|userId|recommendations                                                                                   |\n",
            "+------+--------------------------------------------------------------------------------------------------+\n",
            "|1     |[{3379, 6.1649156}, {33649, 6.108824}, {141718, 6.1074157}, {45503, 5.7321615}, {6818, 5.700225}] |\n",
            "|2     |[{33649, 5.3681726}, {3379, 5.246966}, {6201, 5.206136}, {4495, 5.206136}, {141718, 5.1683354}]   |\n",
            "|3     |[{5048, 5.955384}, {70946, 5.9453845}, {26865, 5.8731227}, {86347, 5.7541847}, {48322, 5.5967617}]|\n",
            "|4     |[{3925, 5.490872}, {187, 5.286545}, {6201, 5.2766247}, {4495, 5.2766247}, {25825, 5.2600913}]     |\n",
            "|5     |[{141718, 5.181051}, {132333, 5.0689464}, {5490, 5.0689464}, {6818, 5.0267277}, {3379, 4.9511504}]|\n",
            "+------+--------------------------------------------------------------------------------------------------+\n",
            "only showing top 5 rows\n",
            "\n"
          ]
        }
      ]
    },
    {
      "cell_type": "code",
      "source": [
        "from pyspark.sql.functions import explode\n",
        "def movieRec(Id):\n",
        "  user_recs = recommendations.filter(col(\"userId\") == Id)\n",
        "  exploded_recs = user_recs.select(explode(col(\"recommendations\")).alias(\"rec\"))\n",
        "  movie_ids = exploded_recs.select(col(\"rec.movieId\"))\n",
        "  recs_list = [str(row.movieId) for row in movie_ids.collect()]\n",
        "  recommended_movies = movies_df.filter(col(\"movieId\").isin(recs_list))\n",
        "  return recommended_movies"
      ],
      "metadata": {
        "id": "od8svjU5ikk6"
      },
      "execution_count": 68,
      "outputs": []
    },
    {
      "cell_type": "code",
      "source": [
        "print(\"Recommended movies for user with id '168':\")\n",
        "movieRec(168).show(truncate=False)"
      ],
      "metadata": {
        "colab": {
          "base_uri": "https://localhost:8080/"
        },
        "id": "8BmYYKMYi-aR",
        "outputId": "02d8ef43-4cc2-4bb9-8e95-85bde840581b"
      },
      "execution_count": 72,
      "outputs": [
        {
          "output_type": "stream",
          "name": "stdout",
          "text": [
            "Recommended movies for user with id '168':\n",
            "+-------+-----------------------------------------------------------------------------------------------------------------------------+--------------------------+\n",
            "|movieId|title                                                                                                                        |genres                    |\n",
            "+-------+-----------------------------------------------------------------------------------------------------------------------------+--------------------------+\n",
            "|3379   |On the Beach (1959)                                                                                                          |Drama                     |\n",
            "|6818   |Come and See (Idi i smotri) (1985)                                                                                           |Drama|War                 |\n",
            "|8477   |Jetée, La (1962)                                                                                                             |Romance|Sci-Fi            |\n",
            "|89904  |The Artist (2011)                                                                                                            |Comedy|Drama|Romance      |\n",
            "|96004  |Dragon Ball Z: The History of Trunks (Doragon bôru Z: Zetsubô e no hankô!! Nokosareta chô senshi - Gohan to Torankusu) (1993)|Action|Adventure|Animation|\n",
            "+-------+-----------------------------------------------------------------------------------------------------------------------------+--------------------------+\n",
            "\n"
          ]
        }
      ]
    },
    {
      "cell_type": "markdown",
      "source": [
        "##4. Find the similar moives"
      ],
      "metadata": {
        "id": "FpPAVwU1q1yp"
      }
    },
    {
      "cell_type": "code",
      "source": [
        "item_factors = bestModel.itemFactors\n",
        "item_factors.show(5, truncate=False)"
      ],
      "metadata": {
        "colab": {
          "base_uri": "https://localhost:8080/"
        },
        "id": "A6UsNSYB6kql",
        "outputId": "edfdd2ae-62e1-4384-ae5a-a8fa460dfc0e"
      },
      "execution_count": 191,
      "outputs": [
        {
          "output_type": "stream",
          "name": "stdout",
          "text": [
            "+---+-------------------------------------------------------------+\n",
            "|id |features                                                     |\n",
            "+---+-------------------------------------------------------------+\n",
            "|10 |[0.669068, -0.98661375, 1.0303719, -1.404348, 0.0310954]     |\n",
            "|20 |[0.58208466, -0.581814, 0.33827534, -1.0681218, 0.80129224]  |\n",
            "|30 |[-0.88411576, -1.349364, -0.09334107, -0.65296865, 1.5343711]|\n",
            "|40 |[-0.2663687, -1.488251, 1.1736697, -1.5591568, -0.09360958]  |\n",
            "|50 |[0.38101068, -1.3306297, 0.55440944, -1.8172596, 0.7394904]  |\n",
            "+---+-------------------------------------------------------------+\n",
            "only showing top 5 rows\n",
            "\n"
          ]
        }
      ]
    },
    {
      "cell_type": "code",
      "source": [
        "item_features = item_factors.select(\"id\", \"features\").rdd.collect()\n",
        "features_dict = {row['id']: np.array(row['features']) for row in item_features}"
      ],
      "metadata": {
        "id": "YtUOeGNGAQF8"
      },
      "execution_count": 189,
      "outputs": []
    },
    {
      "cell_type": "code",
      "source": [
        "def cosine_similarity(a, b):\n",
        "    return float(np.dot(a, b) / (np.linalg.norm(a) * np.linalg.norm(b)))\n",
        "def euclidean_distance(a, b):\n",
        "    return float(np.linalg.norm(a - b))\n",
        "\n",
        "def find_similar_movies(id, method = \"cosine\"):\n",
        "  try:\n",
        "    target_movie_factor = features_dict[id]\n",
        "  except:\n",
        "    print(\"no movie with this id found\")\n",
        "    return None\n",
        "\n",
        "  similarMovie = pd.DataFrame(columns=('movieId',f'{method}Index'))\n",
        "  if method == \"cosine\":\n",
        "    for id, features in features_dict.items():\n",
        "      similarity = cosine_similarity(target_movie_factor, features)\n",
        "      new_row = pd.DataFrame({'movieId': [str(id)], f'{method}Index': [similarity]})\n",
        "      similarMovie = pd.concat([similarMovie, new_row], ignore_index=True)\n",
        "    top_similar_id = similarMovie.sort_values(by=f'{method}Index', ascending=False)[1:6]\n",
        "    movies_pd = movies_df.toPandas()\n",
        "    top_similar_movies = top_similar_id.merge(movies_pd, on='movieId')\n",
        "  elif method == \"euclidean\":\n",
        "    for id, features in features_dict.items():\n",
        "      distance = euclidean_distance(target_movie_factor, features)\n",
        "      new_row = pd.DataFrame({'movieId': [str(id)], f'{method}Index': [distance]})\n",
        "      similarMovie = pd.concat([similarMovie, new_row], ignore_index=True)\n",
        "    top_similar_id = similarMovie.sort_values(by=f'{method}Index', ascending=False)[1:6]\n",
        "    movies_pd = movies_df.toPandas()\n",
        "    top_similar_movies = top_similar_id.merge(movies_pd, on='movieId')\n",
        "  else:\n",
        "    print(\"Invalid method. Use 'cosine' or 'euclidean'.\")\n",
        "    return None\n",
        "  return top_similar_movies"
      ],
      "metadata": {
        "id": "u7Ok3l6eq1YL"
      },
      "execution_count": 223,
      "outputs": []
    },
    {
      "cell_type": "code",
      "source": [
        "find_similar_movies(6333)"
      ],
      "metadata": {
        "colab": {
          "base_uri": "https://localhost:8080/",
          "height": 261
        },
        "id": "GCfg5uHHJaqq",
        "outputId": "737a3ecd-926f-4d86-9eec-e0ea9955bbc9"
      },
      "execution_count": 231,
      "outputs": [
        {
          "output_type": "stream",
          "name": "stderr",
          "text": [
            "<ipython-input-223-df2ec43c5f85>:18: FutureWarning: The behavior of DataFrame concatenation with empty or all-NA entries is deprecated. In a future version, this will no longer exclude empty or all-NA columns when determining the result dtypes. To retain the old behavior, exclude the relevant entries before the concat operation.\n",
            "  similarMovie = pd.concat([similarMovie, new_row], ignore_index=True)\n"
          ]
        },
        {
          "output_type": "execute_result",
          "data": {
            "text/plain": [
              "  movieId  cosineIndex                                              title  \\\n",
              "0    8132     0.998849                                   Gladiator (1992)   \n",
              "1     468     0.997539  Englishman Who Went Up a Hill But Came Down a ...   \n",
              "2   91978     0.997261                              Man on a Ledge (2012)   \n",
              "3   96281     0.996686                                  ParaNorman (2012)   \n",
              "4    5955     0.996635                              Antwone Fisher (2002)   \n",
              "\n",
              "                       genres  \n",
              "0                Action|Drama  \n",
              "1              Comedy|Romance  \n",
              "2              Crime|Thriller  \n",
              "3  Adventure|Animation|Comedy  \n",
              "4                       Drama  "
            ],
            "text/html": [
              "\n",
              "  <div id=\"df-93667723-68ea-4b35-9934-4a8c1df6c3e6\" class=\"colab-df-container\">\n",
              "    <div>\n",
              "<style scoped>\n",
              "    .dataframe tbody tr th:only-of-type {\n",
              "        vertical-align: middle;\n",
              "    }\n",
              "\n",
              "    .dataframe tbody tr th {\n",
              "        vertical-align: top;\n",
              "    }\n",
              "\n",
              "    .dataframe thead th {\n",
              "        text-align: right;\n",
              "    }\n",
              "</style>\n",
              "<table border=\"1\" class=\"dataframe\">\n",
              "  <thead>\n",
              "    <tr style=\"text-align: right;\">\n",
              "      <th></th>\n",
              "      <th>movieId</th>\n",
              "      <th>cosineIndex</th>\n",
              "      <th>title</th>\n",
              "      <th>genres</th>\n",
              "    </tr>\n",
              "  </thead>\n",
              "  <tbody>\n",
              "    <tr>\n",
              "      <th>0</th>\n",
              "      <td>8132</td>\n",
              "      <td>0.998849</td>\n",
              "      <td>Gladiator (1992)</td>\n",
              "      <td>Action|Drama</td>\n",
              "    </tr>\n",
              "    <tr>\n",
              "      <th>1</th>\n",
              "      <td>468</td>\n",
              "      <td>0.997539</td>\n",
              "      <td>Englishman Who Went Up a Hill But Came Down a ...</td>\n",
              "      <td>Comedy|Romance</td>\n",
              "    </tr>\n",
              "    <tr>\n",
              "      <th>2</th>\n",
              "      <td>91978</td>\n",
              "      <td>0.997261</td>\n",
              "      <td>Man on a Ledge (2012)</td>\n",
              "      <td>Crime|Thriller</td>\n",
              "    </tr>\n",
              "    <tr>\n",
              "      <th>3</th>\n",
              "      <td>96281</td>\n",
              "      <td>0.996686</td>\n",
              "      <td>ParaNorman (2012)</td>\n",
              "      <td>Adventure|Animation|Comedy</td>\n",
              "    </tr>\n",
              "    <tr>\n",
              "      <th>4</th>\n",
              "      <td>5955</td>\n",
              "      <td>0.996635</td>\n",
              "      <td>Antwone Fisher (2002)</td>\n",
              "      <td>Drama</td>\n",
              "    </tr>\n",
              "  </tbody>\n",
              "</table>\n",
              "</div>\n",
              "    <div class=\"colab-df-buttons\">\n",
              "\n",
              "  <div class=\"colab-df-container\">\n",
              "    <button class=\"colab-df-convert\" onclick=\"convertToInteractive('df-93667723-68ea-4b35-9934-4a8c1df6c3e6')\"\n",
              "            title=\"Convert this dataframe to an interactive table.\"\n",
              "            style=\"display:none;\">\n",
              "\n",
              "  <svg xmlns=\"http://www.w3.org/2000/svg\" height=\"24px\" viewBox=\"0 -960 960 960\">\n",
              "    <path d=\"M120-120v-720h720v720H120Zm60-500h600v-160H180v160Zm220 220h160v-160H400v160Zm0 220h160v-160H400v160ZM180-400h160v-160H180v160Zm440 0h160v-160H620v160ZM180-180h160v-160H180v160Zm440 0h160v-160H620v160Z\"/>\n",
              "  </svg>\n",
              "    </button>\n",
              "\n",
              "  <style>\n",
              "    .colab-df-container {\n",
              "      display:flex;\n",
              "      gap: 12px;\n",
              "    }\n",
              "\n",
              "    .colab-df-convert {\n",
              "      background-color: #E8F0FE;\n",
              "      border: none;\n",
              "      border-radius: 50%;\n",
              "      cursor: pointer;\n",
              "      display: none;\n",
              "      fill: #1967D2;\n",
              "      height: 32px;\n",
              "      padding: 0 0 0 0;\n",
              "      width: 32px;\n",
              "    }\n",
              "\n",
              "    .colab-df-convert:hover {\n",
              "      background-color: #E2EBFA;\n",
              "      box-shadow: 0px 1px 2px rgba(60, 64, 67, 0.3), 0px 1px 3px 1px rgba(60, 64, 67, 0.15);\n",
              "      fill: #174EA6;\n",
              "    }\n",
              "\n",
              "    .colab-df-buttons div {\n",
              "      margin-bottom: 4px;\n",
              "    }\n",
              "\n",
              "    [theme=dark] .colab-df-convert {\n",
              "      background-color: #3B4455;\n",
              "      fill: #D2E3FC;\n",
              "    }\n",
              "\n",
              "    [theme=dark] .colab-df-convert:hover {\n",
              "      background-color: #434B5C;\n",
              "      box-shadow: 0px 1px 3px 1px rgba(0, 0, 0, 0.15);\n",
              "      filter: drop-shadow(0px 1px 2px rgba(0, 0, 0, 0.3));\n",
              "      fill: #FFFFFF;\n",
              "    }\n",
              "  </style>\n",
              "\n",
              "    <script>\n",
              "      const buttonEl =\n",
              "        document.querySelector('#df-93667723-68ea-4b35-9934-4a8c1df6c3e6 button.colab-df-convert');\n",
              "      buttonEl.style.display =\n",
              "        google.colab.kernel.accessAllowed ? 'block' : 'none';\n",
              "\n",
              "      async function convertToInteractive(key) {\n",
              "        const element = document.querySelector('#df-93667723-68ea-4b35-9934-4a8c1df6c3e6');\n",
              "        const dataTable =\n",
              "          await google.colab.kernel.invokeFunction('convertToInteractive',\n",
              "                                                    [key], {});\n",
              "        if (!dataTable) return;\n",
              "\n",
              "        const docLinkHtml = 'Like what you see? Visit the ' +\n",
              "          '<a target=\"_blank\" href=https://colab.research.google.com/notebooks/data_table.ipynb>data table notebook</a>'\n",
              "          + ' to learn more about interactive tables.';\n",
              "        element.innerHTML = '';\n",
              "        dataTable['output_type'] = 'display_data';\n",
              "        await google.colab.output.renderOutput(dataTable, element);\n",
              "        const docLink = document.createElement('div');\n",
              "        docLink.innerHTML = docLinkHtml;\n",
              "        element.appendChild(docLink);\n",
              "      }\n",
              "    </script>\n",
              "  </div>\n",
              "\n",
              "\n",
              "<div id=\"df-d079f40c-7253-4041-bca7-31591aa7e8f9\">\n",
              "  <button class=\"colab-df-quickchart\" onclick=\"quickchart('df-d079f40c-7253-4041-bca7-31591aa7e8f9')\"\n",
              "            title=\"Suggest charts\"\n",
              "            style=\"display:none;\">\n",
              "\n",
              "<svg xmlns=\"http://www.w3.org/2000/svg\" height=\"24px\"viewBox=\"0 0 24 24\"\n",
              "     width=\"24px\">\n",
              "    <g>\n",
              "        <path d=\"M19 3H5c-1.1 0-2 .9-2 2v14c0 1.1.9 2 2 2h14c1.1 0 2-.9 2-2V5c0-1.1-.9-2-2-2zM9 17H7v-7h2v7zm4 0h-2V7h2v10zm4 0h-2v-4h2v4z\"/>\n",
              "    </g>\n",
              "</svg>\n",
              "  </button>\n",
              "\n",
              "<style>\n",
              "  .colab-df-quickchart {\n",
              "      --bg-color: #E8F0FE;\n",
              "      --fill-color: #1967D2;\n",
              "      --hover-bg-color: #E2EBFA;\n",
              "      --hover-fill-color: #174EA6;\n",
              "      --disabled-fill-color: #AAA;\n",
              "      --disabled-bg-color: #DDD;\n",
              "  }\n",
              "\n",
              "  [theme=dark] .colab-df-quickchart {\n",
              "      --bg-color: #3B4455;\n",
              "      --fill-color: #D2E3FC;\n",
              "      --hover-bg-color: #434B5C;\n",
              "      --hover-fill-color: #FFFFFF;\n",
              "      --disabled-bg-color: #3B4455;\n",
              "      --disabled-fill-color: #666;\n",
              "  }\n",
              "\n",
              "  .colab-df-quickchart {\n",
              "    background-color: var(--bg-color);\n",
              "    border: none;\n",
              "    border-radius: 50%;\n",
              "    cursor: pointer;\n",
              "    display: none;\n",
              "    fill: var(--fill-color);\n",
              "    height: 32px;\n",
              "    padding: 0;\n",
              "    width: 32px;\n",
              "  }\n",
              "\n",
              "  .colab-df-quickchart:hover {\n",
              "    background-color: var(--hover-bg-color);\n",
              "    box-shadow: 0 1px 2px rgba(60, 64, 67, 0.3), 0 1px 3px 1px rgba(60, 64, 67, 0.15);\n",
              "    fill: var(--button-hover-fill-color);\n",
              "  }\n",
              "\n",
              "  .colab-df-quickchart-complete:disabled,\n",
              "  .colab-df-quickchart-complete:disabled:hover {\n",
              "    background-color: var(--disabled-bg-color);\n",
              "    fill: var(--disabled-fill-color);\n",
              "    box-shadow: none;\n",
              "  }\n",
              "\n",
              "  .colab-df-spinner {\n",
              "    border: 2px solid var(--fill-color);\n",
              "    border-color: transparent;\n",
              "    border-bottom-color: var(--fill-color);\n",
              "    animation:\n",
              "      spin 1s steps(1) infinite;\n",
              "  }\n",
              "\n",
              "  @keyframes spin {\n",
              "    0% {\n",
              "      border-color: transparent;\n",
              "      border-bottom-color: var(--fill-color);\n",
              "      border-left-color: var(--fill-color);\n",
              "    }\n",
              "    20% {\n",
              "      border-color: transparent;\n",
              "      border-left-color: var(--fill-color);\n",
              "      border-top-color: var(--fill-color);\n",
              "    }\n",
              "    30% {\n",
              "      border-color: transparent;\n",
              "      border-left-color: var(--fill-color);\n",
              "      border-top-color: var(--fill-color);\n",
              "      border-right-color: var(--fill-color);\n",
              "    }\n",
              "    40% {\n",
              "      border-color: transparent;\n",
              "      border-right-color: var(--fill-color);\n",
              "      border-top-color: var(--fill-color);\n",
              "    }\n",
              "    60% {\n",
              "      border-color: transparent;\n",
              "      border-right-color: var(--fill-color);\n",
              "    }\n",
              "    80% {\n",
              "      border-color: transparent;\n",
              "      border-right-color: var(--fill-color);\n",
              "      border-bottom-color: var(--fill-color);\n",
              "    }\n",
              "    90% {\n",
              "      border-color: transparent;\n",
              "      border-bottom-color: var(--fill-color);\n",
              "    }\n",
              "  }\n",
              "</style>\n",
              "\n",
              "  <script>\n",
              "    async function quickchart(key) {\n",
              "      const quickchartButtonEl =\n",
              "        document.querySelector('#' + key + ' button');\n",
              "      quickchartButtonEl.disabled = true;  // To prevent multiple clicks.\n",
              "      quickchartButtonEl.classList.add('colab-df-spinner');\n",
              "      try {\n",
              "        const charts = await google.colab.kernel.invokeFunction(\n",
              "            'suggestCharts', [key], {});\n",
              "      } catch (error) {\n",
              "        console.error('Error during call to suggestCharts:', error);\n",
              "      }\n",
              "      quickchartButtonEl.classList.remove('colab-df-spinner');\n",
              "      quickchartButtonEl.classList.add('colab-df-quickchart-complete');\n",
              "    }\n",
              "    (() => {\n",
              "      let quickchartButtonEl =\n",
              "        document.querySelector('#df-d079f40c-7253-4041-bca7-31591aa7e8f9 button');\n",
              "      quickchartButtonEl.style.display =\n",
              "        google.colab.kernel.accessAllowed ? 'block' : 'none';\n",
              "    })();\n",
              "  </script>\n",
              "</div>\n",
              "\n",
              "    </div>\n",
              "  </div>\n"
            ],
            "application/vnd.google.colaboratory.intrinsic+json": {
              "type": "dataframe",
              "summary": "{\n  \"name\": \"find_similar_movies(6333)\",\n  \"rows\": 5,\n  \"fields\": [\n    {\n      \"column\": \"movieId\",\n      \"properties\": {\n        \"dtype\": \"string\",\n        \"num_unique_values\": 5,\n        \"samples\": [\n          \"468\",\n          \"5955\",\n          \"91978\"\n        ],\n        \"semantic_type\": \"\",\n        \"description\": \"\"\n      }\n    },\n    {\n      \"column\": \"cosineIndex\",\n      \"properties\": {\n        \"dtype\": \"number\",\n        \"std\": 0.0008989483932110513,\n        \"min\": 0.9966352274080168,\n        \"max\": 0.9988488850910867,\n        \"num_unique_values\": 5,\n        \"samples\": [\n          0.9975392582390725,\n          0.9966352274080168,\n          0.9972606249350101\n        ],\n        \"semantic_type\": \"\",\n        \"description\": \"\"\n      }\n    },\n    {\n      \"column\": \"title\",\n      \"properties\": {\n        \"dtype\": \"string\",\n        \"num_unique_values\": 5,\n        \"samples\": [\n          \"Englishman Who Went Up a Hill But Came Down a Mountain, The (1995)\",\n          \"Antwone Fisher (2002)\",\n          \"Man on a Ledge (2012)\"\n        ],\n        \"semantic_type\": \"\",\n        \"description\": \"\"\n      }\n    },\n    {\n      \"column\": \"genres\",\n      \"properties\": {\n        \"dtype\": \"string\",\n        \"num_unique_values\": 5,\n        \"samples\": [\n          \"Comedy|Romance\",\n          \"Drama\",\n          \"Crime|Thriller\"\n        ],\n        \"semantic_type\": \"\",\n        \"description\": \"\"\n      }\n    }\n  ]\n}"
            }
          },
          "metadata": {},
          "execution_count": 231
        }
      ]
    },
    {
      "cell_type": "code",
      "source": [
        "find_similar_movies(668, 'euclidean')"
      ],
      "metadata": {
        "colab": {
          "base_uri": "https://localhost:8080/",
          "height": 261
        },
        "id": "R_9k233xrpeV",
        "outputId": "f1d627ca-7815-4593-975c-e7a2eaaf67d6"
      },
      "execution_count": 234,
      "outputs": [
        {
          "output_type": "stream",
          "name": "stderr",
          "text": [
            "<ipython-input-223-df2ec43c5f85>:26: FutureWarning: The behavior of DataFrame concatenation with empty or all-NA entries is deprecated. In a future version, this will no longer exclude empty or all-NA columns when determining the result dtypes. To retain the old behavior, exclude the relevant entries before the concat operation.\n",
            "  similarMovie = pd.concat([similarMovie, new_row], ignore_index=True)\n"
          ]
        },
        {
          "output_type": "execute_result",
          "data": {
            "text/plain": [
              "  movieId  euclideanIndex                                           title  \\\n",
              "0   73042        3.568052  Alvin and the Chipmunks: The Squeakquel (2009)   \n",
              "1  121097        3.133988             To Grandmother's House We Go (1992)   \n",
              "2    8138        3.069052              Attack of the Giant Leeches (1959)   \n",
              "3    5048        3.038736                                Snow Dogs (2002)   \n",
              "4    8372        2.997258                      Garfield: The Movie (2004)   \n",
              "\n",
              "                              genres  \n",
              "0  Animation|Children|Comedy|Musical  \n",
              "1          Adventure|Children|Comedy  \n",
              "2                      Horror|Sci-Fi  \n",
              "3          Adventure|Children|Comedy  \n",
              "4          Animation|Children|Comedy  "
            ],
            "text/html": [
              "\n",
              "  <div id=\"df-c549956c-17fc-4f31-a22c-ba68904c5393\" class=\"colab-df-container\">\n",
              "    <div>\n",
              "<style scoped>\n",
              "    .dataframe tbody tr th:only-of-type {\n",
              "        vertical-align: middle;\n",
              "    }\n",
              "\n",
              "    .dataframe tbody tr th {\n",
              "        vertical-align: top;\n",
              "    }\n",
              "\n",
              "    .dataframe thead th {\n",
              "        text-align: right;\n",
              "    }\n",
              "</style>\n",
              "<table border=\"1\" class=\"dataframe\">\n",
              "  <thead>\n",
              "    <tr style=\"text-align: right;\">\n",
              "      <th></th>\n",
              "      <th>movieId</th>\n",
              "      <th>euclideanIndex</th>\n",
              "      <th>title</th>\n",
              "      <th>genres</th>\n",
              "    </tr>\n",
              "  </thead>\n",
              "  <tbody>\n",
              "    <tr>\n",
              "      <th>0</th>\n",
              "      <td>73042</td>\n",
              "      <td>3.568052</td>\n",
              "      <td>Alvin and the Chipmunks: The Squeakquel (2009)</td>\n",
              "      <td>Animation|Children|Comedy|Musical</td>\n",
              "    </tr>\n",
              "    <tr>\n",
              "      <th>1</th>\n",
              "      <td>121097</td>\n",
              "      <td>3.133988</td>\n",
              "      <td>To Grandmother's House We Go (1992)</td>\n",
              "      <td>Adventure|Children|Comedy</td>\n",
              "    </tr>\n",
              "    <tr>\n",
              "      <th>2</th>\n",
              "      <td>8138</td>\n",
              "      <td>3.069052</td>\n",
              "      <td>Attack of the Giant Leeches (1959)</td>\n",
              "      <td>Horror|Sci-Fi</td>\n",
              "    </tr>\n",
              "    <tr>\n",
              "      <th>3</th>\n",
              "      <td>5048</td>\n",
              "      <td>3.038736</td>\n",
              "      <td>Snow Dogs (2002)</td>\n",
              "      <td>Adventure|Children|Comedy</td>\n",
              "    </tr>\n",
              "    <tr>\n",
              "      <th>4</th>\n",
              "      <td>8372</td>\n",
              "      <td>2.997258</td>\n",
              "      <td>Garfield: The Movie (2004)</td>\n",
              "      <td>Animation|Children|Comedy</td>\n",
              "    </tr>\n",
              "  </tbody>\n",
              "</table>\n",
              "</div>\n",
              "    <div class=\"colab-df-buttons\">\n",
              "\n",
              "  <div class=\"colab-df-container\">\n",
              "    <button class=\"colab-df-convert\" onclick=\"convertToInteractive('df-c549956c-17fc-4f31-a22c-ba68904c5393')\"\n",
              "            title=\"Convert this dataframe to an interactive table.\"\n",
              "            style=\"display:none;\">\n",
              "\n",
              "  <svg xmlns=\"http://www.w3.org/2000/svg\" height=\"24px\" viewBox=\"0 -960 960 960\">\n",
              "    <path d=\"M120-120v-720h720v720H120Zm60-500h600v-160H180v160Zm220 220h160v-160H400v160Zm0 220h160v-160H400v160ZM180-400h160v-160H180v160Zm440 0h160v-160H620v160ZM180-180h160v-160H180v160Zm440 0h160v-160H620v160Z\"/>\n",
              "  </svg>\n",
              "    </button>\n",
              "\n",
              "  <style>\n",
              "    .colab-df-container {\n",
              "      display:flex;\n",
              "      gap: 12px;\n",
              "    }\n",
              "\n",
              "    .colab-df-convert {\n",
              "      background-color: #E8F0FE;\n",
              "      border: none;\n",
              "      border-radius: 50%;\n",
              "      cursor: pointer;\n",
              "      display: none;\n",
              "      fill: #1967D2;\n",
              "      height: 32px;\n",
              "      padding: 0 0 0 0;\n",
              "      width: 32px;\n",
              "    }\n",
              "\n",
              "    .colab-df-convert:hover {\n",
              "      background-color: #E2EBFA;\n",
              "      box-shadow: 0px 1px 2px rgba(60, 64, 67, 0.3), 0px 1px 3px 1px rgba(60, 64, 67, 0.15);\n",
              "      fill: #174EA6;\n",
              "    }\n",
              "\n",
              "    .colab-df-buttons div {\n",
              "      margin-bottom: 4px;\n",
              "    }\n",
              "\n",
              "    [theme=dark] .colab-df-convert {\n",
              "      background-color: #3B4455;\n",
              "      fill: #D2E3FC;\n",
              "    }\n",
              "\n",
              "    [theme=dark] .colab-df-convert:hover {\n",
              "      background-color: #434B5C;\n",
              "      box-shadow: 0px 1px 3px 1px rgba(0, 0, 0, 0.15);\n",
              "      filter: drop-shadow(0px 1px 2px rgba(0, 0, 0, 0.3));\n",
              "      fill: #FFFFFF;\n",
              "    }\n",
              "  </style>\n",
              "\n",
              "    <script>\n",
              "      const buttonEl =\n",
              "        document.querySelector('#df-c549956c-17fc-4f31-a22c-ba68904c5393 button.colab-df-convert');\n",
              "      buttonEl.style.display =\n",
              "        google.colab.kernel.accessAllowed ? 'block' : 'none';\n",
              "\n",
              "      async function convertToInteractive(key) {\n",
              "        const element = document.querySelector('#df-c549956c-17fc-4f31-a22c-ba68904c5393');\n",
              "        const dataTable =\n",
              "          await google.colab.kernel.invokeFunction('convertToInteractive',\n",
              "                                                    [key], {});\n",
              "        if (!dataTable) return;\n",
              "\n",
              "        const docLinkHtml = 'Like what you see? Visit the ' +\n",
              "          '<a target=\"_blank\" href=https://colab.research.google.com/notebooks/data_table.ipynb>data table notebook</a>'\n",
              "          + ' to learn more about interactive tables.';\n",
              "        element.innerHTML = '';\n",
              "        dataTable['output_type'] = 'display_data';\n",
              "        await google.colab.output.renderOutput(dataTable, element);\n",
              "        const docLink = document.createElement('div');\n",
              "        docLink.innerHTML = docLinkHtml;\n",
              "        element.appendChild(docLink);\n",
              "      }\n",
              "    </script>\n",
              "  </div>\n",
              "\n",
              "\n",
              "<div id=\"df-417fa5ba-55f8-4d23-a97a-feeda9573efb\">\n",
              "  <button class=\"colab-df-quickchart\" onclick=\"quickchart('df-417fa5ba-55f8-4d23-a97a-feeda9573efb')\"\n",
              "            title=\"Suggest charts\"\n",
              "            style=\"display:none;\">\n",
              "\n",
              "<svg xmlns=\"http://www.w3.org/2000/svg\" height=\"24px\"viewBox=\"0 0 24 24\"\n",
              "     width=\"24px\">\n",
              "    <g>\n",
              "        <path d=\"M19 3H5c-1.1 0-2 .9-2 2v14c0 1.1.9 2 2 2h14c1.1 0 2-.9 2-2V5c0-1.1-.9-2-2-2zM9 17H7v-7h2v7zm4 0h-2V7h2v10zm4 0h-2v-4h2v4z\"/>\n",
              "    </g>\n",
              "</svg>\n",
              "  </button>\n",
              "\n",
              "<style>\n",
              "  .colab-df-quickchart {\n",
              "      --bg-color: #E8F0FE;\n",
              "      --fill-color: #1967D2;\n",
              "      --hover-bg-color: #E2EBFA;\n",
              "      --hover-fill-color: #174EA6;\n",
              "      --disabled-fill-color: #AAA;\n",
              "      --disabled-bg-color: #DDD;\n",
              "  }\n",
              "\n",
              "  [theme=dark] .colab-df-quickchart {\n",
              "      --bg-color: #3B4455;\n",
              "      --fill-color: #D2E3FC;\n",
              "      --hover-bg-color: #434B5C;\n",
              "      --hover-fill-color: #FFFFFF;\n",
              "      --disabled-bg-color: #3B4455;\n",
              "      --disabled-fill-color: #666;\n",
              "  }\n",
              "\n",
              "  .colab-df-quickchart {\n",
              "    background-color: var(--bg-color);\n",
              "    border: none;\n",
              "    border-radius: 50%;\n",
              "    cursor: pointer;\n",
              "    display: none;\n",
              "    fill: var(--fill-color);\n",
              "    height: 32px;\n",
              "    padding: 0;\n",
              "    width: 32px;\n",
              "  }\n",
              "\n",
              "  .colab-df-quickchart:hover {\n",
              "    background-color: var(--hover-bg-color);\n",
              "    box-shadow: 0 1px 2px rgba(60, 64, 67, 0.3), 0 1px 3px 1px rgba(60, 64, 67, 0.15);\n",
              "    fill: var(--button-hover-fill-color);\n",
              "  }\n",
              "\n",
              "  .colab-df-quickchart-complete:disabled,\n",
              "  .colab-df-quickchart-complete:disabled:hover {\n",
              "    background-color: var(--disabled-bg-color);\n",
              "    fill: var(--disabled-fill-color);\n",
              "    box-shadow: none;\n",
              "  }\n",
              "\n",
              "  .colab-df-spinner {\n",
              "    border: 2px solid var(--fill-color);\n",
              "    border-color: transparent;\n",
              "    border-bottom-color: var(--fill-color);\n",
              "    animation:\n",
              "      spin 1s steps(1) infinite;\n",
              "  }\n",
              "\n",
              "  @keyframes spin {\n",
              "    0% {\n",
              "      border-color: transparent;\n",
              "      border-bottom-color: var(--fill-color);\n",
              "      border-left-color: var(--fill-color);\n",
              "    }\n",
              "    20% {\n",
              "      border-color: transparent;\n",
              "      border-left-color: var(--fill-color);\n",
              "      border-top-color: var(--fill-color);\n",
              "    }\n",
              "    30% {\n",
              "      border-color: transparent;\n",
              "      border-left-color: var(--fill-color);\n",
              "      border-top-color: var(--fill-color);\n",
              "      border-right-color: var(--fill-color);\n",
              "    }\n",
              "    40% {\n",
              "      border-color: transparent;\n",
              "      border-right-color: var(--fill-color);\n",
              "      border-top-color: var(--fill-color);\n",
              "    }\n",
              "    60% {\n",
              "      border-color: transparent;\n",
              "      border-right-color: var(--fill-color);\n",
              "    }\n",
              "    80% {\n",
              "      border-color: transparent;\n",
              "      border-right-color: var(--fill-color);\n",
              "      border-bottom-color: var(--fill-color);\n",
              "    }\n",
              "    90% {\n",
              "      border-color: transparent;\n",
              "      border-bottom-color: var(--fill-color);\n",
              "    }\n",
              "  }\n",
              "</style>\n",
              "\n",
              "  <script>\n",
              "    async function quickchart(key) {\n",
              "      const quickchartButtonEl =\n",
              "        document.querySelector('#' + key + ' button');\n",
              "      quickchartButtonEl.disabled = true;  // To prevent multiple clicks.\n",
              "      quickchartButtonEl.classList.add('colab-df-spinner');\n",
              "      try {\n",
              "        const charts = await google.colab.kernel.invokeFunction(\n",
              "            'suggestCharts', [key], {});\n",
              "      } catch (error) {\n",
              "        console.error('Error during call to suggestCharts:', error);\n",
              "      }\n",
              "      quickchartButtonEl.classList.remove('colab-df-spinner');\n",
              "      quickchartButtonEl.classList.add('colab-df-quickchart-complete');\n",
              "    }\n",
              "    (() => {\n",
              "      let quickchartButtonEl =\n",
              "        document.querySelector('#df-417fa5ba-55f8-4d23-a97a-feeda9573efb button');\n",
              "      quickchartButtonEl.style.display =\n",
              "        google.colab.kernel.accessAllowed ? 'block' : 'none';\n",
              "    })();\n",
              "  </script>\n",
              "</div>\n",
              "\n",
              "    </div>\n",
              "  </div>\n"
            ],
            "application/vnd.google.colaboratory.intrinsic+json": {
              "type": "dataframe",
              "summary": "{\n  \"name\": \"find_similar_movies(668, 'euclidean')\",\n  \"rows\": 5,\n  \"fields\": [\n    {\n      \"column\": \"movieId\",\n      \"properties\": {\n        \"dtype\": \"string\",\n        \"num_unique_values\": 5,\n        \"samples\": [\n          \"121097\",\n          \"8372\",\n          \"8138\"\n        ],\n        \"semantic_type\": \"\",\n        \"description\": \"\"\n      }\n    },\n    {\n      \"column\": \"euclideanIndex\",\n      \"properties\": {\n        \"dtype\": \"number\",\n        \"std\": 0.2327201317598913,\n        \"min\": 2.9972580377420943,\n        \"max\": 3.568052233341351,\n        \"num_unique_values\": 5,\n        \"samples\": [\n          3.1339879580115877,\n          2.9972580377420943,\n          3.0690520231976275\n        ],\n        \"semantic_type\": \"\",\n        \"description\": \"\"\n      }\n    },\n    {\n      \"column\": \"title\",\n      \"properties\": {\n        \"dtype\": \"string\",\n        \"num_unique_values\": 5,\n        \"samples\": [\n          \"To Grandmother's House We Go (1992)\",\n          \"Garfield: The Movie (2004)\",\n          \"Attack of the Giant Leeches (1959)\"\n        ],\n        \"semantic_type\": \"\",\n        \"description\": \"\"\n      }\n    },\n    {\n      \"column\": \"genres\",\n      \"properties\": {\n        \"dtype\": \"string\",\n        \"num_unique_values\": 4,\n        \"samples\": [\n          \"Adventure|Children|Comedy\",\n          \"Animation|Children|Comedy\",\n          \"Animation|Children|Comedy|Musical\"\n        ],\n        \"semantic_type\": \"\",\n        \"description\": \"\"\n      }\n    }\n  ]\n}"
            }
          },
          "metadata": {},
          "execution_count": 234
        }
      ]
    },
    {
      "cell_type": "code",
      "source": [
        "find_similar_movies(463)"
      ],
      "metadata": {
        "id": "Q0Z9bcMJxCgY",
        "outputId": "b30f3948-b8a1-4c27-bdb5-79d68110fdd1",
        "colab": {
          "base_uri": "https://localhost:8080/"
        }
      },
      "execution_count": 235,
      "outputs": [
        {
          "output_type": "stream",
          "name": "stdout",
          "text": [
            "no movie with this id found\n"
          ]
        }
      ]
    }
  ]
}